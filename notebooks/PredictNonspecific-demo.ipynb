{
 "cells": [
  {
   "cell_type": "code",
   "execution_count": null,
   "metadata": {},
   "outputs": [],
   "source": [
    "import warnings\n",
    "warnings.filterwarnings(\"ignore\")\n",
    "\n",
    "from collections import Counter"
   ]
  },
  {
   "cell_type": "code",
   "execution_count": 9,
   "metadata": {},
   "outputs": [],
   "source": [
    "import os\n",
    "import sys\n",
    "import numpy as np\n",
    "import pandas as pd\n",
    "import seaborn as sns\n",
    "\n",
    "import matplotlib.pyplot as plt\n",
    "\n",
    "sys.path.append(\"../src\")\n",
    "\n",
    "#from utils import *\n",
    "#from classification import *\n",
    "#from inference import *\n",
    "global_aa = list(\"ACDEFGHIKLMNPQRSTVWY\")"
   ]
  },
  {
   "cell_type": "markdown",
   "metadata": {},
   "source": [
    "## Apply model to example sequences"
   ]
  },
  {
   "cell_type": "markdown",
   "metadata": {},
   "source": [
    "### Process data"
   ]
  },
  {
   "cell_type": "code",
   "execution_count": 13,
   "metadata": {},
   "outputs": [],
   "source": [
    "test=result[\"Sequence\"]\n",
    "\n",
    "pad=np.vectorize(pad_sequence)\n",
    "test=pad(test, \"J\", 20)\n",
    "test=test.astype(\"object\")\n",
    "dat=process(test)\n",
    "dat=torch.tensor(np.array(dat),  dtype = torch.float32)"
   ]
  },
  {
   "cell_type": "markdown",
   "metadata": {},
   "source": [
    "### Compute unrelated target predictions"
   ]
  },
  {
   "cell_type": "code",
   "execution_count": null,
   "metadata": {},
   "outputs": [],
   "source": [
    "bsa=compute_pred_labels(\"../experiments/bsa/\", dat).reshape(-1)\n",
    "bv=compute_pred_labels(\"../experiments/bv/\", dat).reshape(-1)\n",
    "tgfb=compute_pred_labels(\"../experiments/tgfb/\", dat).reshape(-1)"
   ]
  },
  {
   "cell_type": "code",
   "execution_count": null,
   "metadata": {},
   "outputs": [],
   "source": [
    "final_pred=[]\n",
    "for i in range(48):\n",
    "    if bsa[i]==1 or tgfb[i]==1 or bv[i]==1:\n",
    "        final_pred.append(\"Non-specific\")\n",
    "    else:\n",
    "        final_pred.append(\"Anti-id (specific)\")"
   ]
  }
 ],
 "metadata": {
  "kernelspec": {
   "display_name": "Python 3",
   "language": "python",
   "name": "python3"
  },
  "language_info": {
   "codemirror_mode": {
    "name": "ipython",
    "version": 3
   },
   "file_extension": ".py",
   "mimetype": "text/x-python",
   "name": "python",
   "nbconvert_exporter": "python",
   "pygments_lexer": "ipython3",
   "version": "3.7.3"
  }
 },
 "nbformat": 4,
 "nbformat_minor": 4
}
