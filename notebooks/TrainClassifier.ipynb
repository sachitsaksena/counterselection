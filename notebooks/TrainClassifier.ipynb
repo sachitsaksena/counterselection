{
 "cells": [
  {
   "cell_type": "code",
   "execution_count": null,
   "metadata": {},
   "outputs": [],
   "source": [
    "import os\n",
    "import sys\n",
    "import numpy as np\n",
    "from matplotlib import pyplot as plt\n",
    "from scipy import stats\n",
    "import math\n",
    "\n",
    "import torch\n",
    "import torch.nn as nn\n",
    "from torch.nn import functional as F\n",
    "import torch.utils.data\n",
    "\n",
    "from torch.nn.parameter import Parameter\n",
    "from torch.nn import init\n",
    "\n",
    "from tqdm import tqdm\n",
    "#torch.cuda.set_device(1)\n",
    "\n",
    "global_aa = list(\"ACDEFGHIKLMNPQRSTVWY\")"
   ]
  },
  {
   "cell_type": "code",
   "execution_count": null,
   "metadata": {},
   "outputs": [],
   "source": [
    "sys.path.append(\"../src\")\n",
    "\n",
    "# %reload_ext autoreload\n",
    "from utils import *\n",
    "from classification import *\n",
    "from train_classifier import *"
   ]
  },
  {
   "cell_type": "markdown",
   "metadata": {},
   "source": [
    "# Process data"
   ]
  },
  {
   "cell_type": "code",
   "execution_count": null,
   "metadata": {},
   "outputs": [],
   "source": [
    "raw_data = readcsv_class(\"../data/classification/tgfb_a/\")\n",
    "test_data = readcsv_class(\"../data/classification/tgfb_b/\")\n",
    "train_raw = process_class(raw_data)\n",
    "test_raw = process_clas(test_data)\n",
    "train_ds = toTensorDataset(train_raw)\n",
    "test_ds = toTensorDataset(test_raw)\n",
    "\n",
    "trainloader = torch.utils.data.DataLoader(train_ds, batch_size=100, shuffle=True, num_workers=2, drop_last=True)\n",
    "testloader = torch.utils.data.DataLoader(test_ds, batch_size=1000, shuffle=False, num_workers=2, drop_last=False)\n",
    "trainloaderfast = torch.utils.data.DataLoader(train_ds, batch_size=1000, shuffle=False, num_workers=2, drop_last=False)"
   ]
  },
  {
   "cell_type": "markdown",
   "metadata": {},
   "source": [
    "# Train ensemble models"
   ]
  },
  {
   "cell_type": "code",
   "execution_count": null,
   "metadata": {},
   "outputs": [],
   "source": [
    "# training parameters\n",
    "MODELS=[Seq_32_32(),Seq32x1_16(), Seq32x2_16(), \n",
    "        Seq64x1_16(), Seq_emb_32x1_16(), Seq32x1_16_filt3()]\n",
    "EPOCHS=100\n",
    "OUTPATH=\"../experiments/tgfb\"\n",
    "TRAINLOADER=trainloader\n",
    "TRAINLOADERFAST=trainloaderfast\n",
    "TESTLOADER=testloader"
   ]
  },
  {
   "cell_type": "code",
   "execution_count": null,
   "metadata": {},
   "outputs": [],
   "source": [
    "# global\n",
    "train_ensemble_classifier(models=MODELS, \n",
    "               epochs=EPOCHS, \n",
    "               outpath=OUTPATH, \n",
    "               trainloader=TRAINLOADER, \n",
    "               trainloaderfast=TRAINLOADERFAST, \n",
    "               testloader=TESTLOADER)"
   ]
  }
 ],
 "metadata": {
  "kernelspec": {
   "display_name": "Python 3",
   "language": "python",
   "name": "python3"
  },
  "language_info": {
   "codemirror_mode": {
    "name": "ipython",
    "version": 3
   },
   "file_extension": ".py",
   "mimetype": "text/x-python",
   "name": "python",
   "nbconvert_exporter": "python",
   "pygments_lexer": "ipython3",
   "version": "3.7.3"
  }
 },
 "nbformat": 4,
 "nbformat_minor": 4
}
